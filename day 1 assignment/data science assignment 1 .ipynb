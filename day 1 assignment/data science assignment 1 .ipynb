{
 "cells": [
  {
   "cell_type": "markdown",
   "metadata": {},
   "source": [
    "# Q1\n",
    "Given the following jumbled word, OBANWRI guess the correct English word.\n",
    "A. RANIBOW\n",
    "B. RAINBOW\n",
    "C. BOWRANI\n",
    "D. ROBWANI\n"
   ]
  },
  {
   "cell_type": "code",
   "execution_count": 1,
   "metadata": {},
   "outputs": [
    {
     "name": "stdout",
     "output_type": "stream",
     "text": [
      "Enter Scrambbled Word Here: obanwri\n",
      "['rainbow']\n",
      "Restart? [y/n]n\n",
      "Restart? [y/n]y\n"
     ]
    }
   ],
   "source": [
    "def RemoveFromList(thelist, val):\n",
    "    return [value for value in thelist if value != val]\n",
    "\n",
    "def GetDic():\n",
    "    try:\n",
    "        dicopen = open(\"C:\\\\Users\\\\DVM\\Desktop\\\\ai-ml\\\\data science\\\\day 1 assignment\\\\DL.txt\", \"r\")\n",
    "        dicraw = dicopen.read()\n",
    "        dicopen.close()\n",
    "        diclist = dicraw.split(\"\\n\")\n",
    "        diclist = RemoveFromList(diclist, '')\n",
    "        return diclist\n",
    "    except FileNotFoundError:\n",
    "        print(\"No Dictionary!\")\n",
    "        return \n",
    "    \n",
    "def Word2Vect(word):\n",
    "    l = ['a','b','c','d','e','f','g','h','i','j','k','l','m','n','o','p','q','r','s','t','u','v','w','x','y','z']\n",
    "    v = [0, 0, 0, 0, 0, 0, 0, 0, 0, 0, 0, 0, 0, 0, 0, 0, 0, 0, 0, 0, 0, 0, 0, 0, 0, 0]\n",
    "    w = word.lower()\n",
    "    wl = list(w)\n",
    "    for i in range(0, len(wl)):\n",
    "        if wl[i] in l:\n",
    "            ind = l.index(wl[i])\n",
    "            v[ind] += 1\n",
    "    return v\n",
    "\n",
    "def Vect2Int(vect):\n",
    "    pv = 0\n",
    "    f = 0\n",
    "    for i in range(0, len(vect)):\n",
    "        wip = (vect[i]*(2**pv))\n",
    "        f += wip\n",
    "        pv += 4\n",
    "    return f\n",
    "    \n",
    "def Ints2Dic(dic):\n",
    "    d = {}\n",
    "    for i in range(0, len(dic)):\n",
    "        v = Word2Vect(dic[i])\n",
    "        Int = Vect2Int(v)\n",
    "        if Int in d:\n",
    "            tat = d.get(Int)\n",
    "            tat.append(dic[i])\n",
    "            d[Int] = tat\n",
    "        elif Int not in d:\n",
    "            d[Int] = [dic[i]]\n",
    "    return d\n",
    "        \n",
    "d = GetDic()\n",
    "ind = Ints2Dic(d)\n",
    "\n",
    "while True:\n",
    "    s = input(\"Enter Scrambbled Word Here: \")\n",
    "    v = Vect2Int(Word2Vect(s))\n",
    "    tp = ind.get(v, 'Word Not in Dictionary.')\n",
    "    print(tp)\n",
    "    if tp == 'Word Not in Dictionary.':\n",
    "        if input('Would you like to add it? [y/n]') == 'y' or input('Would you like to add it? [y/n]') == 'Y':\n",
    "            wta = str(input('What is the word you would like to add? '))\n",
    "            dicopen = open(\"DL.txt\", \"a\")\n",
    "            dicopen.write('\\n')\n",
    "            dicopen.write(wta)\n",
    "            dicopen.close()\n",
    "            d = GetDic()\n",
    "            ind = Ints2Dic(d)\n",
    "            print('Dictionary Updated')\n",
    "    if input('Restart? [y/n]') == 'y' or input('Restart? [y/n]') == 'Y':\n",
    "        pass\n",
    "    else:\n",
    "        break\n",
    "\n"
   ]
  },
  {
   "cell_type": "markdown",
   "metadata": {},
   "source": [
    "# Q2  \n",
    "Write a program which prints “LETS UPGRADE”. (Please note that you have to\n",
    "print in ALL CAPS as given)"
   ]
  },
  {
   "cell_type": "code",
   "execution_count": 2,
   "metadata": {},
   "outputs": [
    {
     "name": "stdout",
     "output_type": "stream",
     "text": [
      "LETS UPGRADE\n"
     ]
    }
   ],
   "source": [
    "value=\"lets upgrade\"\n",
    "x=value.upper()\n",
    "print(x)"
   ]
  },
  {
   "cell_type": "markdown",
   "metadata": {},
   "source": [
    "# Q3\n",
    "Write a program that takes cost price and selling price as input and displays whether the transaction is a\n",
    "Profit or a Loss or Neither.\n",
    "INPUT FORMAT\n",
    "The first line contains the cost price.\n",
    "The second line contains the selling price.\n",
    "OUTPUT FORMAT\n",
    "Print \"Profit\" if the transaction is a profit or \"Loss\" if it is a loss. If it is neither\n",
    "profit nor loss, print \"Neither\". (You must not have quotes in your output)\n",
    "NOTE:\n",
    "Please stick to the input and output format. Don't add anything extra like\n",
    "'Enter cost price', 'Enter selling price', etc.\n"
   ]
  },
  {
   "cell_type": "code",
   "execution_count": 8,
   "metadata": {},
   "outputs": [
    {
     "name": "stdout",
     "output_type": "stream",
     "text": [
      "20\n",
      "15\n",
      "loss\n"
     ]
    }
   ],
   "source": [
    "cp=int(input())\n",
    "sp=int(input())\n",
    "if cp>sp:\n",
    " print(\"loss\")\n",
    "elif cp<sp:\n",
    " print(\"profit\")\n",
    "else:\n",
    " print(\"neither\")"
   ]
  },
  {
   "cell_type": "markdown",
   "metadata": {},
   "source": [
    "# Q4\n",
    "Write a program that takes an amount in Indian Rupees as input. You need to find its equivalent\n",
    "in Euro and display it. Assume 1 Euro equals Rs. 80.\n",
    "Please note that you are expected to stick to the given input and output\n",
    "format as in sample test cases. Please don't add any extra lines such as\n",
    "'Enter a number', etc.\n",
    "Your program should take only one number as input and display the output."
   ]
  },
  {
   "cell_type": "code",
   "execution_count": 14,
   "metadata": {},
   "outputs": [
    {
     "name": "stdout",
     "output_type": "stream",
     "text": [
      "240\n",
      "3.0 euros\n"
     ]
    }
   ],
   "source": [
    "amt=int(input())\n",
    "eu=amt/80\n",
    "print(eu,\"euros\")"
   ]
  }
 ],
 "metadata": {
  "kernelspec": {
   "display_name": "Python 3",
   "language": "python",
   "name": "python3"
  },
  "language_info": {
   "codemirror_mode": {
    "name": "ipython",
    "version": 3
   },
   "file_extension": ".py",
   "mimetype": "text/x-python",
   "name": "python",
   "nbconvert_exporter": "python",
   "pygments_lexer": "ipython3",
   "version": "3.7.3"
  }
 },
 "nbformat": 4,
 "nbformat_minor": 2
}
